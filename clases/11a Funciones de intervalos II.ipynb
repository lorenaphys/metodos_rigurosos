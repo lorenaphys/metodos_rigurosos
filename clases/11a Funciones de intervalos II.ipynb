{
 "metadata": {
  "name": ""
 },
 "nbformat": 3,
 "nbformat_minor": 0,
 "worksheets": [
  {
   "cells": [
    {
     "cell_type": "code",
     "collapsed": false,
     "input": [
      "#%load_ext secnum\n",
      "#%secnum"
     ],
     "language": "python",
     "metadata": {},
     "outputs": [],
     "prompt_number": 1
    },
    {
     "cell_type": "heading",
     "level": 1,
     "metadata": {},
     "source": [
      "Rangos de funciones"
     ]
    },
    {
     "cell_type": "markdown",
     "metadata": {},
     "source": [
      "Ejercicio: Prueba que $f(x) = \\cos(x) [\\sin(x)  - x^2 + 1]$ *no* tiene ceros en el intervalo $[0, \\frac{1}{2}] =: [x]$."
     ]
    },
    {
     "cell_type": "markdown",
     "metadata": {},
     "source": [
      "Antes de este curso, habr\u00edamos buscado los m\u00ednimos y m\u00e1ximos de esta funci\u00f3n (C\u00e1lculo I o C\u00e1lculo II).\n",
      "\n",
      "En lugar de esto, hag\u00e1moslo con intervalos:\n",
      "$$f([x]) \\subseteq F([x]),$$\n",
      "donde $F$ es una extensi\u00f3n de intervalos de $f$\n",
      "y\n",
      "$$f([x]) = R(f; [x])$$\n",
      "es el rango de la funci\u00f3n $f$ cuando se eval\u00faa sobre el intervalo $[x]$, i.e.\n",
      "$$f([x]) := \\{f(x): x \\in [x] \\}$$\n",
      "\n",
      "Para simplicidad, usemos la notaci\u00f3n $X := [x]$"
     ]
    },
    {
     "cell_type": "markdown",
     "metadata": {},
     "source": [
      "$\\newcommand{\\interval}[2]{\\left[ #1, #2 \\right]}$\n",
      "\\begin{align}\n",
      "F(X) &= \\cos X (\\sin X - X^2 + 1) \\\\\n",
      "&=\n",
      "\\newcommand{\\texthalf}{\\textstyle \\frac{1}{2}}\n",
      "[\\cos \\texthalf, 1] . \\left ( \\interval{0, \\sin \\texthalf } - [0, \\texthalf]^2 + 1  \\right) \\\\\n",
      "&= [\\cos \\texthalf, 1] .\\left  ( [0, \\sin \\texthalf] - [0, \\textstyle \\frac{1}{4}] + 1  \\right) \\\\\n",
      "&= [\\cos \\texthalf, 1] .\\left  ( [0, \\sin \\texthalf] + [\\textstyle \\frac{3}{4}, 1] \\right) \\\\\n",
      "&= [\\cos \\texthalf, 1] . [\\textstyle \\frac{3}{4}, 1 + \\sin \\texthalf]  \\\\\n",
      "&= [\\textstyle \\frac{3}{4} \\cos \\texthalf, 1 + \\sin \\texthalf] \\\\\n",
      "& > 0.\n",
      "\\end{align}\n",
      "*Por lo tanto*, sigue *rigurosamente* que no hay ceros de la funci\u00f3n en el intervalo $X = [0, \\texthalf]$."
     ]
    },
    {
     "cell_type": "code",
     "collapsed": false,
     "input": [
      "from intervalo import *"
     ],
     "language": "python",
     "metadata": {},
     "outputs": [],
     "prompt_number": 2
    },
    {
     "cell_type": "code",
     "collapsed": false,
     "input": [
      "import numpy as np"
     ],
     "language": "python",
     "metadata": {},
     "outputs": [],
     "prompt_number": 3
    },
    {
     "cell_type": "code",
     "collapsed": false,
     "input": [
      "x = Intervalo(0, 0.5)\n",
      "def f1(x):\n",
      "    return np.cos(x) * (np.sin(x) - x**2 + 1)"
     ],
     "language": "python",
     "metadata": {},
     "outputs": [],
     "prompt_number": 4
    },
    {
     "cell_type": "code",
     "collapsed": false,
     "input": [
      "cos(x)"
     ],
     "language": "python",
     "metadata": {},
     "outputs": [
      {
       "html": [
        "[0.87758256189, 1.0]"
       ],
       "latex": [
        "$[0.87758256189, 1.0]$"
       ],
       "metadata": {},
       "output_type": "pyout",
       "prompt_number": 5,
       "text": [
        "Intervalo [0.87758256189,1.0]"
       ]
      }
     ],
     "prompt_number": 5
    },
    {
     "cell_type": "code",
     "collapsed": false,
     "input": [
      "f1(x)"
     ],
     "language": "python",
     "metadata": {},
     "outputs": [
      {
       "html": [
        "[0.658186921418, 1.4794255386]"
       ],
       "latex": [
        "$[0.658186921418, 1.4794255386]$"
       ],
       "metadata": {},
       "output_type": "pyout",
       "prompt_number": 6,
       "text": [
        "Intervalo [0.658186921418,1.4794255386]"
       ]
      }
     ],
     "prompt_number": 6
    },
    {
     "cell_type": "heading",
     "level": 2,
     "metadata": {},
     "source": [
      "Partir intervalos en cachos"
     ]
    },
    {
     "cell_type": "markdown",
     "metadata": {},
     "source": [
      "Al partir un intervalo en cachos, nos da una *mejor aproximaci\u00f3n* del rango total."
     ]
    },
    {
     "cell_type": "markdown",
     "metadata": {},
     "source": [
      "Utilizar `plt.fill` para dibujar rect\u00e1ngulos rellenados"
     ]
    },
    {
     "cell_type": "code",
     "collapsed": false,
     "input": [
      "def f2(x):\n",
      "    return x * (x-1)\n",
      "\n",
      "def g2(x):\n",
      "    return x**2 - x"
     ],
     "language": "python",
     "metadata": {},
     "outputs": [],
     "prompt_number": 7
    },
    {
     "cell_type": "code",
     "collapsed": false,
     "input": [
      "x = Intervalo(-1, 1)\n",
      "\n",
      "F = f2(x)\n",
      "G = g2(x)\n",
      "\n",
      "print F, G"
     ],
     "language": "python",
     "metadata": {},
     "outputs": [
      {
       "output_type": "stream",
       "stream": "stdout",
       "text": [
        "[-2,2] [-1,2]\n"
       ]
      }
     ],
     "prompt_number": 8
    },
    {
     "cell_type": "heading",
     "level": 2,
     "metadata": {},
     "source": [
      "Dominio natural"
     ]
    },
    {
     "cell_type": "markdown",
     "metadata": {},
     "source": [
      "Si queremos utilizar funciones como $\\sqrt{}$, debemos tomar en cuenta que el dominio natural de la funci\u00f3n no incluye, en este caso, los n\u00fameros negativos.\n",
      "\n",
      "Por ejemplo: Encontrar el \"enclosure\" (\"encierro\"?) de $f(x)  = \\sqrt{x + \\sin(2x)}$ sobre $[0, 2]$"
     ]
    },
    {
     "cell_type": "code",
     "collapsed": false,
     "input": [
      "x = Intervalo(0, 2)\n",
      "def f3(x):\n",
      "    return (x + np.sin(2*x))**0.5"
     ],
     "language": "python",
     "metadata": {},
     "outputs": [],
     "prompt_number": 9
    },
    {
     "cell_type": "code",
     "collapsed": false,
     "input": [
      "F = f3(x)"
     ],
     "language": "python",
     "metadata": {},
     "outputs": [
      {
       "output_type": "stream",
       "stream": "stdout",
       "text": [
        "Advertencia: el intervalo [-0.756802495308,3] tiene interseccion no-vacia \n",
        "            con el dominio [0,inf]; restringiendo\n"
       ]
      },
      {
       "output_type": "stream",
       "stream": "stderr",
       "text": [
        "intervalo.py:450: RuntimeWarning: divide by zero encountered in log\n",
        "  return Intervalo(math.log(restringido.lo), math.log(restringido.hi))\n"
       ]
      }
     ],
     "prompt_number": 10
    },
    {
     "cell_type": "code",
     "collapsed": false,
     "input": [
      "x + sin(2*x)"
     ],
     "language": "python",
     "metadata": {},
     "outputs": [
      {
       "html": [
        "[-0.756802495308, 3]"
       ],
       "latex": [
        "$[-0.756802495308, 3]$"
       ],
       "metadata": {},
       "output_type": "pyout",
       "prompt_number": 11,
       "text": [
        "Intervalo [-0.756802495308,3]"
       ]
      }
     ],
     "prompt_number": 11
    },
    {
     "cell_type": "code",
     "collapsed": false,
     "input": [
      "F"
     ],
     "language": "python",
     "metadata": {},
     "outputs": [
      {
       "html": [
        "[0.0, 1.73205080757]"
       ],
       "latex": [
        "$[0.0, 1.73205080757]$"
       ],
       "metadata": {},
       "output_type": "pyout",
       "prompt_number": 12,
       "text": [
        "Intervalo [0.0,1.73205080757]"
       ]
      }
     ],
     "prompt_number": 12
    },
    {
     "cell_type": "code",
     "collapsed": false,
     "input": [
      "%matplotlib inline\n",
      "from matplotlib import pyplot as plt"
     ],
     "language": "python",
     "metadata": {},
     "outputs": [],
     "prompt_number": 13
    },
    {
     "cell_type": "code",
     "collapsed": false,
     "input": [
      "plt.fill?"
     ],
     "language": "python",
     "metadata": {},
     "outputs": [],
     "prompt_number": 14
    },
    {
     "cell_type": "markdown",
     "metadata": {},
     "source": [
      "Partamos el intervalo en dos cachos:"
     ]
    },
    {
     "cell_type": "code",
     "collapsed": false,
     "input": [
      "x1 = Intervalo(0, 1.0)\n",
      "x2 = Intervalo(1., 2)"
     ],
     "language": "python",
     "metadata": {},
     "outputs": [],
     "prompt_number": 15
    },
    {
     "cell_type": "code",
     "collapsed": false,
     "input": [
      "F1, F2 = f3(x1), f3(x2)"
     ],
     "language": "python",
     "metadata": {},
     "outputs": [
      {
       "output_type": "stream",
       "stream": "stdout",
       "text": [
        "Advertencia: el intervalo [6.12323399574e-17,2.0] tiene interseccion no-vacia \n",
        "            con el dominio [0,inf]; restringiendo\n",
        "Advertencia: el intervalo [0.243197504692,2.90929742683] tiene interseccion no-vacia \n",
        "            con el dominio [0,inf]; restringiendo\n"
       ]
      }
     ],
     "prompt_number": 16
    },
    {
     "cell_type": "code",
     "collapsed": false,
     "input": [
      "print F1\n",
      "print F2"
     ],
     "language": "python",
     "metadata": {},
     "outputs": [
      {
       "output_type": "stream",
       "stream": "stdout",
       "text": [
        "[7.82510958117e-09,1.41421356237]\n",
        "[0.493150590279,1.70566627065]\n"
       ]
      }
     ],
     "prompt_number": 17
    },
    {
     "cell_type": "code",
     "collapsed": false,
     "input": [
      "F1.hull(F2)"
     ],
     "language": "python",
     "metadata": {},
     "outputs": [
      {
       "html": [
        "[7.82510958117e-09, 1.70566627065]"
       ],
       "latex": [
        "$[7.82510958117e-09, 1.70566627065]$"
       ],
       "metadata": {},
       "output_type": "pyout",
       "prompt_number": 18,
       "text": [
        "Intervalo [7.82510958117e-09,1.70566627065]"
       ]
      }
     ],
     "prompt_number": 18
    },
    {
     "cell_type": "markdown",
     "metadata": {},
     "source": [
      "Da un mejor *enclosure*"
     ]
    },
    {
     "cell_type": "heading",
     "level": 2,
     "metadata": {},
     "source": [
      "Sistematicemos"
     ]
    },
    {
     "cell_type": "code",
     "collapsed": false,
     "input": [
      "N = 4\n",
      "\n",
      "puntos_de_division = np.linspace(float(x.lo), float(x.hi), N+1)\n",
      "puntos_de_division"
     ],
     "language": "python",
     "metadata": {},
     "outputs": [
      {
       "metadata": {},
       "output_type": "pyout",
       "prompt_number": 19,
       "text": [
        "array([ 0. ,  0.5,  1. ,  1.5,  2. ])"
       ]
      }
     ],
     "prompt_number": 19
    },
    {
     "cell_type": "code",
     "collapsed": false,
     "input": [
      "subdivididos = [Intervalo(a, b) for (a,b) in zip(puntos_de_division[:-1], puntos_de_division[1:])]\n",
      "subdivididos"
     ],
     "language": "python",
     "metadata": {},
     "outputs": [
      {
       "metadata": {},
       "output_type": "pyout",
       "prompt_number": 20,
       "text": [
        "[Intervalo [0.0,0.5],\n",
        " Intervalo [0.5,1.0],\n",
        " Intervalo [1.0,1.5],\n",
        " Intervalo [1.5,2.0]]"
       ]
      }
     ],
     "prompt_number": 20
    },
    {
     "cell_type": "code",
     "collapsed": false,
     "input": [
      "# zip funciona as\u00ed:\n",
      "l1 = [1, 2, 3]\n",
      "l2 = [4, 5, 6]\n",
      "zip(l1, l2)"
     ],
     "language": "python",
     "metadata": {},
     "outputs": [
      {
       "metadata": {},
       "output_type": "pyout",
       "prompt_number": 21,
       "text": [
        "[(1, 4), (2, 5), (3, 6)]"
       ]
      }
     ],
     "prompt_number": 21
    },
    {
     "cell_type": "code",
     "collapsed": false,
     "input": [
      "rangos = [f3(i) for i in subdivididos]\n",
      "rangos"
     ],
     "language": "python",
     "metadata": {},
     "outputs": [
      {
       "output_type": "stream",
       "stream": "stdout",
       "text": [
        "Advertencia: el intervalo [6.12323399574e-17,1.34147098481] tiene interseccion no-vacia \n",
        "            con el dominio [0,inf]; restringiendo\n",
        "Advertencia: el intervalo [1.34147098481,2.0] tiene interseccion no-vacia \n",
        "            con el dominio [0,inf]; restringiendo\n",
        "Advertencia: el intervalo [1.14112000806,2.40929742683] tiene interseccion no-vacia \n",
        "            con el dominio [0,inf]; restringiendo\n",
        "Advertencia: el intervalo [0.743197504692,2.14112000806] tiene interseccion no-vacia \n",
        "            con el dominio [0,inf]; restringiendo\n"
       ]
      },
      {
       "metadata": {},
       "output_type": "pyout",
       "prompt_number": 22,
       "text": [
        "[Intervalo [7.82510958117e-09,1.15821888467],\n",
        " Intervalo [1.15821888467,1.41421356237],\n",
        " Intervalo [1.06823218827,1.55219116955],\n",
        " Intervalo [0.862089035246,1.46325664463]]"
       ]
      }
     ],
     "prompt_number": 22
    },
    {
     "cell_type": "code",
     "collapsed": false,
     "input": [
      "rango_total = rangos[0]\n",
      "\n",
      "for i in rangos[1:]:\n",
      "    rango_total = rango_total.hull(i)\n",
      "rango_total"
     ],
     "language": "python",
     "metadata": {},
     "outputs": [
      {
       "html": [
        "[7.82510958117e-09, 1.55219116955]"
       ],
       "latex": [
        "$[7.82510958117e-09, 1.55219116955]$"
       ],
       "metadata": {},
       "output_type": "pyout",
       "prompt_number": 23,
       "text": [
        "Intervalo [7.82510958117e-09,1.55219116955]"
       ]
      }
     ],
     "prompt_number": 23
    },
    {
     "cell_type": "markdown",
     "metadata": {},
     "source": [
      "Ahora hay que dibujar todos los subintervalos y sus rangos..."
     ]
    },
    {
     "cell_type": "heading",
     "level": 2,
     "metadata": {},
     "source": [
      "Teoremas"
     ]
    },
    {
     "cell_type": "markdown",
     "metadata": {},
     "source": [
      "**Definici\u00f3n**:\n",
      "\n",
      "Una funci\u00f3n $f:D \\to \\mathbb{R}$ es **Lipschitz** si existe una constante positiva $K$ tal que\n",
      "$$|f(x) - f(y)| \\le K |x -y |,$$\n",
      "para toda $x, y \\in D$.\n",
      "$K$ se llama la **constante de Lipschitz**."
     ]
    },
    {
     "cell_type": "markdown",
     "metadata": {},
     "source": [
      "**Teorema** (Acotamiento del rango, \"range enclosure\")\n",
      "\n",
      "Si $f: I \\to \\mathbb{R}$ es una *funci\u00f3n elemental* en que todas las sub-expresiones son Lipschitz, y $F$ es una extensi\u00f3n a intervalos de $f$, que cumple la isotonicidad de inclusi\u00f3n (\"inclusion isotonicity\"), y est\u00e1 bien definida en $X \\subseteq I$, entonces existe una $K > 0$, que depende de $F$ y $X$, tal que \n",
      "si $X = \\cup_i X_i$, tenemos\n",
      "\n",
      "1. $f(X) = R(f; X) \\subseteq \\cup_i F(X_i) \\subseteq F(X)$;\n",
      "2. $w(\\cup_i F(X_i)) \\le w(f(X)) + K \\max \\{w(X_i) \\}$\n"
     ]
    },
    {
     "cell_type": "markdown",
     "metadata": {},
     "source": [
      "As\u00ed que si las $X_i$ se encogen tal que el m\u00e1ximo $w(X_i) \\to 0$, entonces el rango calculado en t\u00e9rminos de la uni\u00f3n de los cachitos tiende al rango correcto!"
     ]
    },
    {
     "cell_type": "code",
     "collapsed": false,
     "input": [
      "plt.fill??"
     ],
     "language": "python",
     "metadata": {},
     "outputs": [],
     "prompt_number": 24
    },
    {
     "cell_type": "code",
     "collapsed": false,
     "input": [
      "ax = plt.gca()"
     ],
     "language": "python",
     "metadata": {},
     "outputs": [
      {
       "metadata": {},
       "output_type": "display_data",
       "png": "[encoded data removed]",
       "text": [
        "<matplotlib.figure.Figure at 0x106404d10>"
       ]
      }
     ],
     "prompt_number": 25
    },
    {
     "cell_type": "code",
     "collapsed": false,
     "input": [
      "ax.fill??"
     ],
     "language": "python",
     "metadata": {},
     "outputs": [],
     "prompt_number": 26
    },
    {
     "cell_type": "code",
     "collapsed": false,
     "input": [
      "ax._get_patches_for_fill??"
     ],
     "language": "python",
     "metadata": {},
     "outputs": [],
     "prompt_number": 27
    },
    {
     "cell_type": "code",
     "collapsed": false,
     "input": [],
     "language": "python",
     "metadata": {},
     "outputs": [],
     "prompt_number": 27
    }
   ],
   "metadata": {}
  }
 ]
}