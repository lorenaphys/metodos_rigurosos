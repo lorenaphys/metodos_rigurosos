{
 "metadata": {
  "name": ""
 },
 "nbformat": 3,
 "nbformat_minor": 0,
 "worksheets": [
  {
   "cells": [
    {
     "cell_type": "heading",
     "level": 1,
     "metadata": {},
     "source": [
      "Aritm\u00e9tica de punto flotante"
     ]
    },
    {
     "cell_type": "markdown",
     "metadata": {},
     "source": [
      "\u00bfCu\u00e1nto es 4.35 * 100 ?"
     ]
    },
    {
     "cell_type": "code",
     "collapsed": false,
     "input": [
      "4.35*100"
     ],
     "language": "python",
     "metadata": {},
     "outputs": [
      {
       "metadata": {},
       "output_type": "pyout",
       "prompt_number": 1,
       "text": [
        "434.99999999999994"
       ]
      }
     ],
     "prompt_number": 1
    },
    {
     "cell_type": "markdown",
     "metadata": {},
     "source": [
      "Aghhhhhhh!\n",
      "\n",
      "Refleja los *errores de redondeo*\n",
      "\n",
      "Esto proviene de que queremos modelar los n\u00fameros reales $\\Re$ usando los n\u00fameros de la computadora... Veremos esto poco a poco."
     ]
    },
    {
     "cell_type": "markdown",
     "metadata": {},
     "source": [
      "\u00bfC\u00f3mo representamos los reales?\n",
      "\n",
      "Si $x\\in\\Re$, en *base 10* escribimos\n",
      "$$\n",
      "x = (d_n d_{n-1}\\ldots d_0\\cdot d_{-1} d_{-2}\\ldots) )_{10}\n",
      "= d_n 10^n+d_{n-1} 10^{n-1} +\\cdots + d_0 10^0 + d_{-1} 10^{-1}+\\cdots\n",
      "= \\sum_{i=-\\infty}^{n} d_i 10^i\n",
      "$$\n",
      "Esta es la expansi\u00f3n decimal. Aqu\u00ed, $d_i$ son n\u00fameros enteros entre 0 y 9 (ya que estamos en base 10). Esta expansi\u00f3n es *casi \u00fanica*, por las famosas colas decimales de 9's."
     ]
    },
    {
     "cell_type": "markdown",
     "metadata": {},
     "source": [
      "La expansi\u00f3n decimal define las categor\u00edas de los n\u00fameros. Nos concentramos en los *racionales* $\\cal{Q}$, que son aqu\u00e9llos que se pueden escibir como el cociente de dos enteros y cuya expansi\u00f3n decimal es peri\u00f3dica. Por ejemplo,\n",
      "$1/7 = 0.14285714285714285\\cdots = 0.\\overline{142857}$, donde la barra implica la parte decimal que se repite. Los racionales son infinitos, pero *numerables*."
     ]
    },
    {
     "cell_type": "markdown",
     "metadata": {},
     "source": [
      "Por otra parte, est\u00e1n los n\u00fameros irracionales, cuya expansi\u00f3n decimal es aperi\u00f3dica. Un ejemplo es:\n",
      "$$\n",
      "0.10110111011110111110\\cdots\n",
      "$$\n",
      "Los irracionales son infinitos, pero *no numerables*."
     ]
    },
    {
     "cell_type": "markdown",
     "metadata": {},
     "source": [
      "Sin embargo, en la computadora tenemos la limitaci\u00f3n que impone la memoria, es decir, todas las expansiones son finitas.\n",
      "\n",
      "Una soluci\u00f3n para esta implementaci\u00f3n es la del *punto flotante*. Escribimos a $x\\in \\Re$ en *base $\\beta$* como\n",
      "$$\n",
      "x = (-1)^\\sigma (b_n b_{n-1}\\cdots b_0\\cdot b_{-1}\\cdots)_\\beta\n",
      "$$\n",
      "donde $\\beta\\ge 2$ es un entero, $b_i=0,\\ldots, \\beta-1$, $\\sigma=\\pm 1$ sirve para definir el signo."
     ]
    },
    {
     "cell_type": "markdown",
     "metadata": {},
     "source": [
      "La idea de los n\u00fameros de punto flotante es representar a $x$ como\n",
      "$$ x = (-1)^\\sigma m \\beta^e, $$\n",
      "donde $m$ es la *mantisa*, $e$ es un entero llamado *exponente* y la idea de escribirlo as\u00ed es mover el punto por el exponente *a conveniencia*.\n",
      "\n",
      "Ejemplo:\n",
      "$$\n",
      "2.34 = (2.34)_{10} 10^0 = (0.0234)_{10} 10^{2} = \\cdots\n",
      "$$\n",
      "\n",
      "Entonces, definimos al conjunto \n",
      "$$\n",
      "{\\cal F}_\\beta = \\{ (-1)^\\sigma m \\beta^e , \n",
      "m=(b_0\\cdot b_{-1} b_{-2} \\cdots)_\\beta \\}=\\Re\n",
      "$$"
     ]
    },
    {
     "cell_type": "markdown",
     "metadata": {},
     "source": [
      "Para que la representaci\u00f3n de $\\cal{F}_\\beta$ sea *menos redundante*, exigimos que $b_0 \\neq 0$, excepto si $x=0$. Esto quita la posibilidad de tener ceros antes del punto. \n",
      "\n",
      "Para que se cumpla la *unicidad* nos tenemos que deshacer de las colas de nueves en base 10, por lo que pedimos que haya un n\u00famero infinito de $0\\le b_i\\le \\beta-2$."
     ]
    },
    {
     "cell_type": "markdown",
     "metadata": {},
     "source": [
      "Para la computadora, *truncamos* este conjunto a cierto n\u00famero de d\u00edgitos significativos. As\u00ed, definimos\n",
      "$$\n",
      "{\\cal F}_{\\beta,p} = \\{ (-1)^\\sigma m \\beta^e , m=(b_0\\cdot b_{-1} b_{-2} \\cdots b_{-(p-1)})_\\beta, \\sigma=\\pm 1, b_{-i}=0,\\ldots, \\beta-1 \\} .\n",
      "$$\n",
      "Notamos que, el exponente *no* est\u00e1 limitado, por lo que este conjunto es a\u00fan demasiado grande (es numerable)."
     ]
    },
    {
     "cell_type": "markdown",
     "metadata": {},
     "source": [
      "Hacemos, pues la siguiente restricci\u00f3n: Definimos al conjunto\n",
      "$$\n",
      "{\\cal F}_{\\beta,p}^{\\check{e},\\hat{e}} = \\{ x\\in {\\cal F}_{\\beta,p}, \\check{e}\\le e \\le \\hat{e} \\} .\n",
      "$$\n",
      "Este conjunto es *finito*, y se llama el *conjunto de n\u00fameros de punto flotante*."
     ]
    },
    {
     "cell_type": "markdown",
     "metadata": {},
     "source": [
      "La implementaci\u00f3n est\u00e1ndar de este conjunto es el llamado *est\u00e1ndar IEEE 754*. Para la precisi\u00f3n doble de 64 bits, tenemos que:\n",
      "\n",
      "- $\\beta=2$, sistema binario (*bits*)\n",
      "- $\\sigma$: 1 bit (0,1)\n",
      "- $e$: 11 bits\n",
      "- $m$: 52 bits, pero la precisi\u00f3n corresponde a 53 bits (n\u00fameros *normalizados*), ya que el primer bit, por definici\u00f3n, es 1\n",
      "\n",
      "El exponente tiene 11 bits, y por lo tanto $e$ es un n\u00famero entre 0 y $2^{11}-1=2047$. Para tener *exponentes negativos* restamos un *sesgo*:\n",
      "$ B = 2^{E-1}-1$. Para $E=11$, entonces el exponente va desde $-1024$ hasta $1023$.\n",
      "\n"
     ]
    },
    {
     "cell_type": "markdown",
     "metadata": {},
     "source": [
      "IEEE 754 interpreta $x=(\\sigma,e,m)$ como:\n",
      "\n",
      "- $e=2^E-1$ (valor m\u00e1ximo posible del exponente); si $m\\neq 0$ $\\Rightarrow x = {NaN}$ (infonito con signo)\n",
      "- $e=2^E-1, m=0 \\Rightarrow x = (-1)^\\sigma {\\rm Inf}$\n",
      "- $0<e<2^E-1 \\Rightarrow x = (-1)^\\sigma (1\\cdot m)_\\beta \\times 2^{e-B}$\n",
      "- $e=0, m\\neq 0 \\Rightarrow x=(-1)^\\sigma (0\\cdot m)_\\beta \\times 2^{1-B}$\n",
      "- $e=0, m=0 \\Rightarrow x=(-1)^\\sigma \\times 0$ (cero con signo)"
     ]
    },
    {
     "cell_type": "markdown",
     "metadata": {},
     "source": [
      "Ejemplo: 1/10 *no* se puede representar de manera exacta en binario. En binario \n",
      "tendr\u00edamos:\n",
      "\n",
      "$$\n",
      "\\begin{array}{}\n",
      " \\frac{1}{10} & = & (b_0\\cdot b_{-1}b_{-2}\\cdots )_2\\\\\n",
      "& = & b_0 2^0 + b_{-1} 2^{-1} + b_{-2} 2^{-2} \\cdots, b_i=0,1\\\\\n",
      "& = & b_0 1 + b_{-1} \\frac{1}{2} + b_{-2} \\frac{1}{4} \\cdots\\\\\n",
      "\\end{array}\n",
      "$$\n",
      "\n",
      "Como $1/10$ es menor que $1/8$, entonces $b_0=b_{-1}=b_{-2}=b_{-3}=0$ y $b_{-4}=1$...\n",
      "\n",
      "Uno encuentra:\n",
      "\n",
      "$$\n",
      "\\frac{1}{10} = (0.0\\overline{0011})_2\n",
      "$$\n",
      "\n",
      "Demostraci\u00f3n:\n",
      "\n",
      "$$\n",
      " \\sum_{k=1}^\\infty (2^{-4k}+2^{-(4k+1)}) = \n",
      " \\sum_{k=1}^\\infty 2^{-4k} (1 + \\frac{1}{2}) = \n",
      " \\frac{3}{2}\\sum_{k=1}^\\infty 2^{-4k} = \\frac{3}{2} (\\frac{1}{1-2^{-4}}-1)\n",
      " = \\frac{3}{2} (\\frac{1}{\\frac{15}{16}}-1) = \\frac{1}{10}. \\Box\n",
      "$$\n",
      "\n",
      "Por lo tanto, si truncamos a cualquier precisi\u00f3n, *nunca* tendremos la representaci\u00f3n exacta de $1/10$ en binario.\n"
     ]
    },
    {
     "cell_type": "markdown",
     "metadata": {},
     "source": [
      "El n\u00famero $\\epsilon_M = \\beta^{-(p-1)}$, el *epsil\u00f3n de la m\u00e1quina*, es la diferencia entre el 1 y el siguiente n\u00famero representable. Para el sistema binario $\\beta=2$:"
     ]
    },
    {
     "cell_type": "code",
     "collapsed": false,
     "input": [
      "# machine epsilon en doble precisi\u00f3n\n",
      "epsilon_M = 2**(-52)\n",
      "print repr(epsilon_M)"
     ],
     "language": "python",
     "metadata": {},
     "outputs": [
      {
       "output_type": "stream",
       "stream": "stdout",
       "text": [
        "2.220446049250313e-16\n"
       ]
      }
     ],
     "prompt_number": 3
    },
    {
     "cell_type": "code",
     "collapsed": false,
     "input": [],
     "language": "python",
     "metadata": {},
     "outputs": []
    }
   ],
   "metadata": {}
  }
 ]
}