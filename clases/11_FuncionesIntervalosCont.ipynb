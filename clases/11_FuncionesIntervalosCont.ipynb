{
 "metadata": {
  "name": ""
 },
 "nbformat": 3,
 "nbformat_minor": 0,
 "worksheets": [
  {
   "cells": [
    {
     "cell_type": "code",
     "collapsed": false,
     "input": [
      "from intervalo import *"
     ],
     "language": "python",
     "metadata": {},
     "outputs": [],
     "prompt_number": 1
    },
    {
     "cell_type": "code",
     "collapsed": false,
     "input": [
      "from sympy import plot, symbols\n",
      "%matplotlib inline\n",
      "#%load_ext retina"
     ],
     "language": "python",
     "metadata": {},
     "outputs": [],
     "prompt_number": 2
    },
    {
     "cell_type": "code",
     "collapsed": false,
     "input": [
      "from matplotlib import pyplot as plt\n",
      "import numpy as np\n",
      "import sympy as sym"
     ],
     "language": "python",
     "metadata": {},
     "outputs": [],
     "prompt_number": 3
    },
    {
     "cell_type": "heading",
     "level": 3,
     "metadata": {},
     "source": [
      "Ejemplo 1:"
     ]
    },
    {
     "cell_type": "markdown",
     "metadata": {},
     "source": [
      "**Pregunta** \u00bfTiene $f(x) = \\cos x ( \\sin x - x^2 +1)$ ceros en el intervalo $[0,1/2]$ ?"
     ]
    },
    {
     "cell_type": "code",
     "collapsed": false,
     "input": [
      "x = Intervalo(0,0.5)\n",
      "def f1(x):\n",
      "    return cos(x)*( sin(x) - x**2 + 1 )\n"
     ],
     "language": "python",
     "metadata": {},
     "outputs": [],
     "prompt_number": 4
    },
    {
     "cell_type": "code",
     "collapsed": false,
     "input": [
      "F = f1(x)\n",
      "print F"
     ],
     "language": "python",
     "metadata": {},
     "outputs": [
      {
       "output_type": "stream",
       "stream": "stdout",
       "text": [
        "[0.658186921418,1.4794255386]\n"
       ]
      }
     ],
     "prompt_number": 5
    },
    {
     "cell_type": "markdown",
     "metadata": {},
     "source": [
      "**Respuesta** $f(x)$ **no** tiene ceros en el intervalo $[0,1/2]$, ya que `F`, que contiene al rango de $f(x)$, es un rango que *no* cambia de signo, i.e. no contiene al cero.\n",
      "\n",
      "Vale la pena **notar** que, si incluyera al cero, el intervalo *puede* contener un cero de la funci\u00f3n, pero hay que hacer m\u00e1s cosas para demostrar esto."
     ]
    },
    {
     "cell_type": "code",
     "collapsed": false,
     "input": [
      "0 in f1(x)"
     ],
     "language": "python",
     "metadata": {},
     "outputs": [
      {
       "metadata": {},
       "output_type": "pyout",
       "prompt_number": 7,
       "text": [
        "False"
       ]
      }
     ],
     "prompt_number": 7
    },
    {
     "cell_type": "markdown",
     "metadata": {},
     "source": [
      "Y la grafiquita..."
     ]
    },
    {
     "cell_type": "code",
     "collapsed": false,
     "input": [
      "low = float(x.lo)\n",
      "high = float(x.hi)\n",
      "\n",
      "xx = np.linspace(low,high,301)\n",
      "yy = f1(xx)\n",
      "xa = np.array([low, low, high, high])\n",
      "ya = np.array([float(F.lo), float(F.hi), float(F.hi), float(F.lo) ])\n",
      "\n",
      "plt.fill( xa, ya, 'b', alpha=0.3 )\n",
      "plt.plot( xx, yy )"
     ],
     "language": "python",
     "metadata": {},
     "outputs": [
      {
       "metadata": {},
       "output_type": "pyout",
       "prompt_number": 9,
       "text": [
        "[<matplotlib.lines.Line2D at 0x109fa1310>]"
       ]
      },
      {
       "metadata": {},
       "output_type": "display_data",
       "png": "[encoded data removed]",
       "text": [
        "<matplotlib.figure.Figure at 0x109fa12d0>"
       ]
      }
     ],
     "prompt_number": 9
    },
    {
     "cell_type": "heading",
     "level": 3,
     "metadata": {},
     "source": [
      "Ejemplo 2:"
     ]
    },
    {
     "cell_type": "markdown",
     "metadata": {},
     "source": [
      "De nuevo f(x) = x (x-1) en el intervalo [-1,1]"
     ]
    },
    {
     "cell_type": "code",
     "collapsed": false,
     "input": [
      "x = Intervalo(-1,1)\n",
      "\n",
      "def f2(x):\n",
      "    return x * ( x - 1 )\n",
      "\n",
      "def g2(x):\n",
      "    return x**2 - x\n"
     ],
     "language": "python",
     "metadata": {},
     "outputs": [],
     "prompt_number": 10
    },
    {
     "cell_type": "code",
     "collapsed": false,
     "input": [
      "F = f2(x)\n",
      "G = g2(x)\n",
      "print F\n",
      "print G"
     ],
     "language": "python",
     "metadata": {},
     "outputs": [
      {
       "output_type": "stream",
       "stream": "stdout",
       "text": [
        "[-2,2]\n",
        "[-1,2]\n"
       ]
      }
     ],
     "prompt_number": 11
    },
    {
     "cell_type": "code",
     "collapsed": false,
     "input": [
      "low = float(x.lo)\n",
      "high = float(x.hi)\n",
      "\n",
      "xx = np.linspace(low,high,101)\n",
      "yy = f2(xx)\n",
      "xa = np.array([low, low, high, high])\n",
      "ya = np.array([float(F.lo), float(F.hi), float(F.hi), float(F.lo) ])\n",
      "#ya = np.array([float(G.lo), float(G.hi), float(G.hi), float(G.lo) ])\n",
      "\n",
      "plt.fill( xa, ya, 'b', alpha=0.3 )\n",
      "plt.plot( xx, yy )"
     ],
     "language": "python",
     "metadata": {},
     "outputs": [
      {
       "metadata": {},
       "output_type": "pyout",
       "prompt_number": 12,
       "text": [
        "[<matplotlib.lines.Line2D at 0x10c054d90>]"
       ]
      },
      {
       "metadata": {},
       "output_type": "display_data",
       "png": "[encoded data removed]",
       "text": [
        "<matplotlib.figure.Figure at 0x10c054c90>"
       ]
      }
     ],
     "prompt_number": 12
    },
    {
     "cell_type": "markdown",
     "metadata": {},
     "source": [
      "El intervalo puede (y tiene) ceros de la funci\u00f3n. Pero, lo que vamos a probar, es qu\u00e9 pasa si el mismo intervalo lo partimos en varios subintervalos.."
     ]
    },
    {
     "cell_type": "code",
     "collapsed": false,
     "input": [
      "x1 = Intervalo(-1,0)\n",
      "x2 = Intervalo(0,1.)\n",
      "F1, F2 = f2(x1), f2(x2)\n",
      "print F1\n",
      "print F2\n",
      "print F1.hull(F2)"
     ],
     "language": "python",
     "metadata": {},
     "outputs": [
      {
       "output_type": "stream",
       "stream": "stdout",
       "text": [
        "[0,2]\n",
        "[-1.0,0.0]\n",
        "[-1.0,2]\n"
       ]
      }
     ],
     "prompt_number": 19
    },
    {
     "cell_type": "markdown",
     "metadata": {},
     "source": [
      "Resulta que, a pesar de que usamos \"la peor\" de las implementaciones de la funci\u00f3n (la que da un intervalo m\u00e1s amplio), si partimos el intervalo y consideramos el `hull`, obtenemos el mismo resultado --que a\u00fan no es \u00f3ptimo-- que con la otra implementaci\u00f3n.\n"
     ]
    },
    {
     "cell_type": "markdown",
     "metadata": {},
     "source": [
      "Y, graficamente, esto se ve"
     ]
    },
    {
     "cell_type": "code",
     "collapsed": false,
     "input": [
      "x1 = Intervalo(-1,0)\n",
      "x2 = Intervalo(0,1)\n",
      "\n",
      "low = float(x1.lo)\n",
      "high = float(x1.hi)\n",
      "xx1 = np.linspace(low,high,101)\n",
      "yy1 = f2(xx1)\n",
      "F1 = f2(x1)\n",
      "xa1 = np.array([low, low, high, high])\n",
      "ya1 = np.array([float(F1.lo), float(F1.hi), float(F1.hi), float(F1.lo) ])\n",
      "\n",
      "low = float(x2.lo)\n",
      "high = float(x2.hi)\n",
      "xx2 = np.linspace(low,high,301)\n",
      "yy2 = f2(xx2)\n",
      "F2 = f2(x2)\n",
      "xa2 = np.array([low, low, high, high])\n",
      "ya2 = np.array([float(F2.lo), float(F2.hi), float(F2.hi), float(F2.lo) ])\n",
      "\n",
      "plt.fill( xa1, ya1, 'b', xa2, ya2, 'b', alpha=0.3 )\n",
      "plt.plot( xx, yy )"
     ],
     "language": "python",
     "metadata": {},
     "outputs": [
      {
       "metadata": {},
       "output_type": "pyout",
       "prompt_number": 20,
       "text": [
        "[<matplotlib.lines.Line2D at 0x10c1afad0>]"
       ]
      },
      {
       "metadata": {},
       "output_type": "display_data",
       "png": "[encoded data removed]",
       "text": [
        "<matplotlib.figure.Figure at 0x109fa8490>"
       ]
      }
     ],
     "prompt_number": 20
    },
    {
     "cell_type": "heading",
     "level": 3,
     "metadata": {},
     "source": [
      "Ejemplo 3"
     ]
    },
    {
     "cell_type": "markdown",
     "metadata": {},
     "source": [
      "Encontrar una cerradura la rango de $f(x) = \\sqrt{x+\\sin 2x}$ en el intervalo $[0,2]$"
     ]
    },
    {
     "cell_type": "code",
     "collapsed": false,
     "input": [
      "x = Intervalo(0.,2.)\n",
      "\n",
      "def f3(x):\n",
      "    return ( x + np.sin( 2*x) )**0.5"
     ],
     "language": "python",
     "metadata": {},
     "outputs": [],
     "prompt_number": 21
    },
    {
     "cell_type": "code",
     "collapsed": false,
     "input": [
      "F=f3(x)\n",
      "print F"
     ],
     "language": "python",
     "metadata": {},
     "outputs": [
      {
       "output_type": "stream",
       "stream": "stdout",
       "text": [
        "Advertencia: el intervalo [-0.756802495308,3.0] tiene interseccion no-vacia \n",
        "            con el dominio [0,inf]; restringiendo\n",
        "[0.0,1.73205080757]\n"
       ]
      },
      {
       "output_type": "stream",
       "stream": "stderr",
       "text": [
        "intervalo.py:450: RuntimeWarning: divide by zero encountered in log\n",
        "  return Intervalo(math.log(restringido.lo), math.log(restringido.hi))\n"
       ]
      }
     ],
     "prompt_number": 22
    },
    {
     "cell_type": "code",
     "collapsed": false,
     "input": [
      "x1 = Intervalo(0,1.)\n",
      "x2 = Intervalo(1.,2.)\n",
      "F1, F2 = f3(x1), f3(x2)\n",
      "print F1\n",
      "print F2"
     ],
     "language": "python",
     "metadata": {},
     "outputs": [
      {
       "output_type": "stream",
       "stream": "stdout",
       "text": [
        "Advertencia: el intervalo [6.12323399574e-17,2.0] tiene interseccion no-vacia \n",
        "            con el dominio [0,inf]; restringiendo\n",
        "Advertencia: el intervalo [0.243197504692,2.90929742683] tiene interseccion no-vacia \n",
        "            con el dominio [0,inf]; restringiendo\n",
        "[7.82510958117e-09,1.41421356237]\n",
        "[0.493150590279,1.70566627065]\n"
       ]
      }
     ],
     "prompt_number": 23
    },
    {
     "cell_type": "code",
     "collapsed": false,
     "input": [
      "low = float(x.lo)\n",
      "high = float(x.hi)\n",
      "\n",
      "xx = np.linspace(low,high,301)\n",
      "yy = f3(xx)\n",
      "xa = np.array([low, low, high, high])\n",
      "ya = np.array([float(F.lo), float(F.hi), float(F.hi), float(F.lo) ])\n",
      "\n",
      "plt.fill( xa, ya, 'b', alpha=0.3 )\n",
      "plt.plot( xx, yy )"
     ],
     "language": "python",
     "metadata": {},
     "outputs": [
      {
       "metadata": {},
       "output_type": "pyout",
       "prompt_number": 24,
       "text": [
        "[<matplotlib.lines.Line2D at 0x10c2c0e10>]"
       ]
      },
      {
       "metadata": {},
       "output_type": "display_data",
       "png": "[encoded data removed]",
       "text": [
        "<matplotlib.figure.Figure at 0x10c2c08d0>"
       ]
      }
     ],
     "prompt_number": 24
    },
    {
     "cell_type": "code",
     "collapsed": false,
     "input": [
      "low = float(x1.lo)\n",
      "high = float(x1.hi)\n",
      "xx1 = np.linspace(low,high,301)\n",
      "yy1 = f3(xx1)\n",
      "F1 = f3(x1)\n",
      "xa1 = np.array([low, low, high, high])\n",
      "ya1 = np.array([float(F1.lo), float(F1.hi), float(F1.hi), float(F1.lo) ])\n",
      "\n",
      "low = float(x2.lo)\n",
      "high = float(x2.hi)\n",
      "xx2 = np.linspace(low,high,301)\n",
      "yy2 = f3(xx2)\n",
      "F2 = f3(x2)\n",
      "xa2 = np.array([low, low, high, high])\n",
      "ya2 = np.array([float(F2.lo), float(F2.hi), float(F2.hi), float(F2.lo) ])\n",
      "\n",
      "plt.fill( xa1, ya1, 'b', xa2, ya2, 'b', alpha=0.3 )\n",
      "plt.plot( xx, yy )"
     ],
     "language": "python",
     "metadata": {},
     "outputs": [
      {
       "output_type": "stream",
       "stream": "stdout",
       "text": [
        "Advertencia: el intervalo [6.12323399574e-17,2.0] tiene interseccion no-vacia \n",
        "            con el dominio [0,inf]; restringiendo\n",
        "Advertencia: el intervalo [0.243197504692,2.90929742683] tiene interseccion no-vacia \n",
        "            con el dominio [0,inf]; restringiendo\n"
       ]
      },
      {
       "metadata": {},
       "output_type": "pyout",
       "prompt_number": 25,
       "text": [
        "[<matplotlib.lines.Line2D at 0x10c17bad0>]"
       ]
      },
      {
       "metadata": {},
       "output_type": "display_data",
       "png": "[encoded data removed]",
       "text": [
        "<matplotlib.figure.Figure at 0x10c2e7110>"
       ]
      }
     ],
     "prompt_number": 25
    },
    {
     "cell_type": "code",
     "collapsed": false,
     "input": [
      "x2 = Intervalo(1, 1.5)\n",
      "x3 = Intervalo(1.5,2)\n",
      "F1, F2, F3 = f3(x1), f3(x2), f3(x3)\n",
      "print F1\n",
      "print F2\n",
      "print F3"
     ],
     "language": "python",
     "metadata": {},
     "outputs": [
      {
       "output_type": "stream",
       "stream": "stdout",
       "text": [
        "Advertencia: el intervalo [6.12323399574e-17,2.0] tiene interseccion no-vacia \n",
        "            con el dominio [0,inf]; restringiendo\n",
        "Advertencia: el intervalo [1.14112000806,2.40929742683] tiene interseccion no-vacia \n",
        "            con el dominio [0,inf]; restringiendo\n",
        "Advertencia: el intervalo [0.743197504692,2.14112000806] tiene interseccion no-vacia \n",
        "            con el dominio [0,inf]; restringiendo\n",
        "[7.82510958117e-09,1.41421356237]\n",
        "[1.06823218827,1.55219116955]\n",
        "[0.862089035246,1.46325664463]\n"
       ]
      }
     ],
     "prompt_number": 26
    },
    {
     "cell_type": "code",
     "collapsed": false,
     "input": [
      "N=4"
     ],
     "language": "python",
     "metadata": {},
     "outputs": [],
     "prompt_number": 27
    },
    {
     "cell_type": "code",
     "collapsed": false,
     "input": [
      "division_points = np.linspace(float(x.lo), float(x.hi), N+1)\n",
      "division_points"
     ],
     "language": "python",
     "metadata": {},
     "outputs": [
      {
       "metadata": {},
       "output_type": "pyout",
       "prompt_number": 28,
       "text": [
        "array([ 0. ,  0.5,  1. ,  1.5,  2. ])"
       ]
      }
     ],
     "prompt_number": 28
    },
    {
     "cell_type": "code",
     "collapsed": false,
     "input": [
      "subdivided = [ Intervalo(a, b) for (a,b) in zip(division_points[:-1], division_points[1:]) ]\n",
      "subdivided"
     ],
     "language": "python",
     "metadata": {},
     "outputs": [
      {
       "metadata": {},
       "output_type": "pyout",
       "prompt_number": 29,
       "text": [
        "[Intervalo [0.0,0.5],\n",
        " Intervalo [0.5,1.0],\n",
        " Intervalo [1.0,1.5],\n",
        " Intervalo [1.5,2.0]]"
       ]
      }
     ],
     "prompt_number": 29
    },
    {
     "cell_type": "code",
     "collapsed": false,
     "input": [
      "rangos = [ f3(i) for i in subdivided ]\n",
      "rangos"
     ],
     "language": "python",
     "metadata": {},
     "outputs": [
      {
       "output_type": "stream",
       "stream": "stdout",
       "text": [
        "Advertencia: el intervalo [6.12323399574e-17,1.34147098481] tiene interseccion no-vacia \n",
        "            con el dominio [0,inf]; restringiendo\n",
        "Advertencia: el intervalo [1.34147098481,2.0] tiene interseccion no-vacia \n",
        "            con el dominio [0,inf]; restringiendo\n",
        "Advertencia: el intervalo [1.14112000806,2.40929742683] tiene interseccion no-vacia \n",
        "            con el dominio [0,inf]; restringiendo\n",
        "Advertencia: el intervalo [0.743197504692,2.14112000806] tiene interseccion no-vacia \n",
        "            con el dominio [0,inf]; restringiendo\n"
       ]
      },
      {
       "metadata": {},
       "output_type": "pyout",
       "prompt_number": 30,
       "text": [
        "[Intervalo [7.82510958117e-09,1.15821888467],\n",
        " Intervalo [1.15821888467,1.41421356237],\n",
        " Intervalo [1.06823218827,1.55219116955],\n",
        " Intervalo [0.862089035246,1.46325664463]]"
       ]
      }
     ],
     "prompt_number": 30
    },
    {
     "cell_type": "code",
     "collapsed": false,
     "input": [
      "rango_total = rangos[0]\n",
      "for i in rangos[1:]:\n",
      "    rango_total = rango_total.hull(i)\n",
      "rango_total"
     ],
     "language": "python",
     "metadata": {},
     "outputs": [
      {
       "html": [
        "[7.82510958117e-09, 1.55219116955]"
       ],
       "latex": [
        "$[7.82510958117e-09, 1.55219116955]$"
       ],
       "metadata": {},
       "output_type": "pyout",
       "prompt_number": 31,
       "text": [
        "Intervalo [7.82510958117e-09,1.55219116955]"
       ]
      }
     ],
     "prompt_number": 31
    },
    {
     "cell_type": "code",
     "collapsed": false,
     "input": [
      "# Trato de hacer el dibujo\n",
      "low = float(x.lo)\n",
      "high = float(x.hi)\n",
      "xx = np.linspace(low,high,301)\n",
      "yy = f3(xx)\n",
      "\n",
      "for x1 in subdivided:\n",
      "    low = float(x1.lo)\n",
      "    high = float(x1.hi)\n",
      "    xx1 = np.linspace(low,high,301)\n",
      "    yy1 = f3(xx1)\n",
      "    F1 = f3(x1)\n",
      "    xa1 = np.array([low, low, high, high])\n",
      "    ya1 = np.array([float(F1.lo), float(F1.hi), float(F1.hi), float(F1.lo) ])\n",
      "    plt.fill( xa1, ya1, 'b', alpha=0.3 )\n",
      "\n",
      "plt.plot( xx, yy, 'b' )\n"
     ],
     "language": "python",
     "metadata": {},
     "outputs": [
      {
       "output_type": "stream",
       "stream": "stdout",
       "text": [
        "Advertencia: el intervalo [6.12323399574e-17,1.34147098481] tiene interseccion no-vacia \n",
        "            con el dominio [0,inf]; restringiendo\n",
        "Advertencia: el intervalo [1.34147098481,2.0] tiene interseccion no-vacia \n",
        "            con el dominio [0,inf]; restringiendo"
       ]
      },
      {
       "output_type": "stream",
       "stream": "stdout",
       "text": [
        "\n",
        "Advertencia: el intervalo [1.14112000806,2.40929742683] tiene interseccion no-vacia \n",
        "            con el dominio [0,inf]; restringiendo\n",
        "Advertencia: el intervalo [0.743197504692,2.14112000806] tiene interseccion no-vacia \n",
        "            con el dominio [0,inf]; restringiendo\n"
       ]
      },
      {
       "metadata": {},
       "output_type": "pyout",
       "prompt_number": 32,
       "text": [
        "[<matplotlib.lines.Line2D at 0x10c32d750>]"
       ]
      },
      {
       "metadata": {},
       "output_type": "display_data",
       "png": "[encoded data removed]",
       "text": [
        "<matplotlib.figure.Figure at 0x10c057e90>"
       ]
      }
     ],
     "prompt_number": 32
    },
    {
     "cell_type": "code",
     "collapsed": false,
     "input": [
      "N=8\n",
      "\n",
      "division_points = np.linspace(float(x.lo), float(x.hi), N+1)\n",
      "subdivided = [ Intervalo(a, b) for (a,b) in zip(division_points[:-1], division_points[1:]) ]\n",
      "#rangos = [ f3(i) for i in subdivided ]\n",
      "#rango_total = rangos[0]\n",
      "#for i in rangos[1:]:\n",
      "#    rango_total = rango_total.hull(i)\n",
      "#rango_total\n",
      "\n",
      "# Hago el dibujo\n",
      "low = float(x.lo)\n",
      "high = float(x.hi)\n",
      "xx = np.linspace(low,high,301)\n",
      "yy = f3(xx)\n",
      "\n",
      "for x1 in subdivided:\n",
      "    low = float(x1.lo)\n",
      "    high = float(x1.hi)\n",
      "    xx1 = np.linspace(low,high,301)\n",
      "    yy1 = f3(xx1)\n",
      "    F1 = f3(x1)\n",
      "    xa1 = np.array([low, low, high, high])\n",
      "    ya1 = np.array([float(F1.lo), float(F1.hi), float(F1.hi), float(F1.lo) ])\n",
      "    plt.fill( xa1, ya1, 'b', alpha=0.3 )\n",
      "\n",
      "plt.plot( xx, yy, 'b' )\n"
     ],
     "language": "python",
     "metadata": {},
     "outputs": [
      {
       "output_type": "stream",
       "stream": "stdout",
       "text": [
        "Advertencia: el intervalo [6.12323399574e-17,0.729425538604] tiene interseccion no-vacia \n",
        "            con el dominio [0,inf]; restringiendo\n",
        "Advertencia: el intervalo [0.729425538604,1.34147098481] tiene interseccion no-vacia \n",
        "            con el dominio [0,inf]; restringiendo"
       ]
      },
      {
       "output_type": "stream",
       "stream": "stdout",
       "text": [
        "\n",
        "Advertencia: el intervalo [1.34147098481,1.7474949866] tiene interseccion no-vacia \n",
        "            con el dominio [0,inf]; restringiendo\n",
        "Advertencia: el intervalo [1.65929742683,2.0] tiene interseccion no-vacia \n",
        "            con el dominio [0,inf]; restringiendo\n",
        "Advertencia: el intervalo [1.5984721441,2.15929742683] tiene interseccion no-vacia \n",
        "            con el dominio [0,inf]; restringiendo\n",
        "Advertencia: el intervalo [1.39112000806,2.0984721441] tiene interseccion no-vacia \n",
        "            con el dominio [0,inf]; restringiendo\n",
        "Advertencia: el intervalo [1.14921677231,1.89112000806] tiene interseccion no-vacia \n",
        "            con el dominio [0,inf]; restringiendo\n",
        "Advertencia: el intervalo [0.993197504692,1.64921677231] tiene interseccion no-vacia \n",
        "            con el dominio [0,inf]; restringiendo\n"
       ]
      },
      {
       "metadata": {},
       "output_type": "pyout",
       "prompt_number": 33,
       "text": [
        "[<matplotlib.lines.Line2D at 0x10c4450d0>]"
       ]
      },
      {
       "metadata": {},
       "output_type": "display_data",
       "png": "[encoded data removed]",
       "text": [
        "<matplotlib.figure.Figure at 0x10c4429d0>"
       ]
      }
     ],
     "prompt_number": 33
    },
    {
     "cell_type": "code",
     "collapsed": false,
     "input": [
      "N=16\n",
      "\n",
      "division_points = np.linspace(float(x.lo), float(x.hi), N+1)\n",
      "subdivided = [ Intervalo(a, b) for (a,b) in zip(division_points[:-1], division_points[1:]) ]\n",
      "#rangos = [ f3(i) for i in subdivided ]\n",
      "#rango_total = rangos[0]\n",
      "#for i in rangos[1:]:\n",
      "#    rango_total = rango_total.hull(i)\n",
      "#rango_total\n",
      "\n",
      "# Hago el dibujo\n",
      "low = float(x.lo)\n",
      "high = float(x.hi)\n",
      "xx = np.linspace(low,high,301)\n",
      "yy = f3(xx)\n",
      "\n",
      "for x1 in subdivided:\n",
      "    low = float(x1.lo)\n",
      "    high = float(x1.hi)\n",
      "    xx1 = np.linspace(low,high,301)\n",
      "    yy1 = f3(xx1)\n",
      "    F1 = f3(x1)\n",
      "    xa1 = np.array([low, low, high, high])\n",
      "    ya1 = np.array([float(F1.lo), float(F1.hi), float(F1.hi), float(F1.lo) ])\n",
      "    plt.fill( xa1, ya1, 'b', alpha=0.3 )\n",
      "\n",
      "plt.plot( xx, yy, 'b' )\n"
     ],
     "language": "python",
     "metadata": {},
     "outputs": [
      {
       "output_type": "stream",
       "stream": "stdout",
       "text": [
        "Advertencia: el intervalo [6.12323399574e-17,0.372403959255] tiene interseccion no-vacia \n",
        "            con el dominio [0,inf]; restringiendo\n",
        "Advertencia: el intervalo [0.372403959255,0.729425538604] tiene interseccion no-vacia \n",
        "            con el dominio [0,inf]; restringiendo"
       ]
      },
      {
       "output_type": "stream",
       "stream": "stdout",
       "text": [
        "\n",
        "Advertencia: el intervalo [0.729425538604,1.05663876002] tiene interseccion no-vacia \n",
        "            con el dominio [0,inf]; restringiendo\n",
        "Advertencia: el intervalo [1.05663876002,1.34147098481] tiene interseccion no-vacia \n",
        "            con el dominio [0,inf]; restringiendo\n",
        "Advertencia: el intervalo [1.34147098481,1.57398461936] tiene interseccion no-vacia \n",
        "            con el dominio [0,inf]; restringiendo\n",
        "Advertencia: el intervalo [1.57398461936,1.7474949866] tiene interseccion no-vacia \n",
        "            con el dominio [0,inf]; restringiendo\n",
        "Advertencia: el intervalo [1.73398594687,1.875] tiene interseccion no-vacia \n",
        "            con el dominio [0,inf]; restringiendo\n",
        "Advertencia: el intervalo [1.78429742683,1.98398594687] tiene interseccion no-vacia \n",
        "            con el dominio [0,inf]; restringiendo\n",
        "Advertencia: el intervalo [1.77807319689,2.03429742683] tiene interseccion no-vacia \n",
        "            con el dominio [0,inf]; restringiendo\n",
        "Advertencia: el intervalo [1.7234721441,2.02807319689] tiene interseccion no-vacia \n",
        "            con el dominio [0,inf]; restringiendo\n",
        "Advertencia: el intervalo [1.63166099205,1.9734721441] tiene interseccion no-vacia \n",
        "            con el dominio [0,inf]; restringiendo\n",
        "Advertencia: el intervalo [1.51612000806,1.88166099205] tiene interseccion no-vacia \n",
        "            con el dominio [0,inf]; restringiendo\n",
        "Advertencia: el intervalo [1.39180486547,1.76612000806] tiene interseccion no-vacia \n",
        "            con el dominio [0,inf]; restringiendo\n",
        "Advertencia: el intervalo [1.27421677231,1.64180486547] tiene interseccion no-vacia \n",
        "            con el dominio [0,inf]; restringiendo\n",
        "Advertencia: el intervalo [1.17843868126,1.52421677231] tiene interseccion no-vacia \n",
        "            con el dominio [0,inf]; restringiendo\n",
        "Advertencia: el intervalo [1.11819750469,1.42843868126] tiene interseccion no-vacia \n",
        "            con el dominio [0,inf]; restringiendo\n"
       ]
      },
      {
       "metadata": {},
       "output_type": "pyout",
       "prompt_number": 34,
       "text": [
        "[<matplotlib.lines.Line2D at 0x10c442390>]"
       ]
      },
      {
       "metadata": {},
       "output_type": "display_data",
       "png": "[encoded data removed]",
       "text": [
        "<matplotlib.figure.Figure at 0x10c550c90>"
       ]
      }
     ],
     "prompt_number": 34
    },
    {
     "cell_type": "heading",
     "level": 3,
     "metadata": {},
     "source": [
      "Ejemplo 4"
     ]
    },
    {
     "cell_type": "code",
     "collapsed": false,
     "input": [
      "def f4(x):\n",
      "    return (np.cos(x))**3+np.sin(x)"
     ],
     "language": "python",
     "metadata": {},
     "outputs": [],
     "prompt_number": 35
    },
    {
     "cell_type": "code",
     "collapsed": false,
     "input": [
      "x = Intervalo(-5,5)\n",
      "F = f4(x)\n",
      "print F"
     ],
     "language": "python",
     "metadata": {},
     "outputs": [
      {
       "output_type": "stream",
       "stream": "stdout",
       "text": [
        "[-2,2]\n"
       ]
      }
     ],
     "prompt_number": 36
    },
    {
     "cell_type": "code",
     "collapsed": false,
     "input": [
      "Ntest = [2**n for n in range(6)]\n",
      "for N in Ntest:\n",
      "    Nalfa = N*1.0/Ntest[-1]\n",
      "    division_points = np.linspace(float(x.lo), float(x.hi), N+1)\n",
      "    subdivided = [ Intervalo(a, b) for (a,b) in zip(division_points[:-1], division_points[1:]) ]\n",
      "    rangos = [ f4(i) for i in subdivided ]\n",
      "    rango_total = rangos[0]\n",
      "    for i in rangos[1:]:\n",
      "        rango_total = rango_total.hull(i)\n",
      "    print \"Rango(N=\",N,\")=\",rango_total\n",
      "    \n",
      "    # Hago el dibujo\n",
      "    low = float(x.lo)\n",
      "    high = float(x.hi)\n",
      "    xx = np.linspace(low,high,301)\n",
      "    yy = f4(xx)\n",
      "    \n",
      "    for x1 in subdivided:\n",
      "        low = float(x1.lo)\n",
      "        high = float(x1.hi)\n",
      "        xx1 = np.linspace(low,high,301)\n",
      "        yy1 = f4(xx1)\n",
      "        F1 = f4(x1)\n",
      "        xa1 = np.array([low, low, high, high])\n",
      "        ya1 = np.array([float(F1.lo), float(F1.hi), float(F1.hi), float(F1.lo) ])\n",
      "        plt.fill( xa1, ya1, 'b', alpha=Nalfa )\n",
      "    \n",
      "plt.plot( xx, yy, 'r' )\n"
     ],
     "language": "python",
     "metadata": {},
     "outputs": [
      {
       "output_type": "stream",
       "stream": "stdout",
       "text": [
        "Rango(N= 1 )= [-2,2]\n",
        "Rango(N="
       ]
      },
      {
       "output_type": "stream",
       "stream": "stdout",
       "text": [
        " 2 )= [-2,2.0]\n",
        "Rango(N= 4 )= [-2,2.0]\n",
        "Rango(N= 8 )= [-1.5984721441,1.94898461936]\n",
        "Rango(N= 16 )= [-1.59805923619,1.58509727294]\n",
        "Rango(N="
       ]
      },
      {
       "output_type": "stream",
       "stream": "stdout",
       "text": [
        " 32 )= [-1.44675991154,1.44672450275]\n"
       ]
      },
      {
       "metadata": {},
       "output_type": "pyout",
       "prompt_number": 37,
       "text": [
        "[<matplotlib.lines.Line2D at 0x10c570910>]"
       ]
      },
      {
       "metadata": {},
       "output_type": "display_data",
       "png": "[encoded data removed]",
       "text": [
        "<matplotlib.figure.Figure at 0x10c558810>"
       ]
      }
     ],
     "prompt_number": 37
    },
    {
     "cell_type": "markdown",
     "metadata": {},
     "source": [
      "Esta es casi la portada del libro de Tucker :-)"
     ]
    },
    {
     "cell_type": "heading",
     "level": 3,
     "metadata": {},
     "source": [
      "Moraleja"
     ]
    },
    {
     "cell_type": "markdown",
     "metadata": {},
     "source": [
      "Dividir un intervalo en subintervalos, y tomar la uni\u00f3n (hull) de\n",
      "los intervalos obtenidos al extender las funciones en todos\n",
      "los subintervalos *mejora* el intervalo que acota al rango de la funci\u00f3n."
     ]
    },
    {
     "cell_type": "code",
     "collapsed": false,
     "input": [],
     "language": "python",
     "metadata": {},
     "outputs": []
    }
   ],
   "metadata": {}
  }
 ]
}