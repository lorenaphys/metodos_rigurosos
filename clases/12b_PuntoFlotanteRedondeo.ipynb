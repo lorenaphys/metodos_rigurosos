{
 "metadata": {
  "name": ""
 },
 "nbformat": 3,
 "nbformat_minor": 0,
 "worksheets": [
  {
   "cells": [
    {
     "cell_type": "heading",
     "level": 1,
     "metadata": {},
     "source": [
      "Punto flotante y redondeo"
     ]
    },
    {
     "cell_type": "markdown",
     "metadata": {},
     "source": [
      "N\u00fameros representables se definen a partir de $(\\sigma,m,e)$, con $\\sigma$ el signo, $m$ la mantisa, y $e$ el exponente:\n",
      "$$ x = (-1)^\\sigma \\times m \\times \\beta^e .$$\n",
      "\n",
      "$m$ se da con precisi\u00f3n $p$, es decir, con $p$ d\u00edgitos en base $\\beta$:\n",
      "$$ m = (b_0\\cdot b_{-1} b_{-2}\\cdots b_{-(p-1)})_\\beta .$$\n",
      "\n",
      "El exponente tambi\u00e9n est\u00e1 limitado por $E$ bits: $e \\in [-2^{E-1},2^{E-1}-1]$.\n",
      "\n",
      "IEEE754: La doble precisi\u00f3n se define con 64 bits ($\\beta=2$), tales que 1 se destina a $\\sigma$, 11 a $e$ y 52 a la mantisa (el primer bit, teniendo que ser 1, se omite, lo que de facto implica 53 bits para la mantisa)."
     ]
    },
    {
     "cell_type": "markdown",
     "metadata": {},
     "source": [
      "Ejemplos de los problemas que hay al *restringirnos* a un conjunto finito, para *representar* a los reales:\n",
      "\n",
      "- $\\beta=10, p=6$. En este caso, $102.345+1.11111 = (1.02345)_{10}\\times 10^{2}+(1.11111)_{10}\\times 10^{0}=(1.03456)_{10}\\times 10^2$. Se pierden 2 bits de informaci\u00f3n (los dos \u00faltimos 1's de $(1.11111)_{10}\\times 10^{0}$)!\n",
      "\n",
      "- En doble precisi\u00f3n, tenemos aproximadamente 16 d\u00edgitos decimales (53 binarios). Entonces $1\\times 10^9 + 1 \\times 10^{-9} = (!) 1\\times 10^9$."
     ]
    },
    {
     "cell_type": "markdown",
     "metadata": {},
     "source": [
      "Queremos definir, primero que nada, las operaciones aritm\u00e9ticas b\u00e1sicas $\\{ +, -, \\times, \\div \\}$.\n",
      "\n",
      "El problema est\u00e1 en que dados $x, y \\in {\\cal F}_{\\beta,p}^{\\check{e},\\hat{e}} = {\\cal F}$, ${\\cal F} \\subseteq \\Re}$, no es claro que $x + y$ est\u00e9 en ${\\cal F}$. Esto es, las operaciones b\u00e1sicas *a priori* no son cerradas en ${\\cal F}$.\n"
     ]
    },
    {
     "cell_type": "markdown",
     "metadata": {},
     "source": [
      "Para poder definir las operaciones, entonces debemos asociar el resultado exacto $x\\in\\Re$ un valor $\\Box(x)\\ o\\  \\bigcirc(x)\\in {\\cal F}$. Esto es, vamos a definir una funci\u00f3n $\\Box:\\Re\\rightarrow {\\cal F}$, que llamamos *redondeo*.\n",
      "\n",
      "Necesitamos que \n",
      "\n",
      "- $\\Box(x) = x$, para todo $x\\in {\\cal F}$\n",
      "- y, para todo $x, y \\in \\Re$, con $x\\le y$, entonces $\\Box(x)\\le \\Box(y)$.\n"
     ]
    },
    {
     "cell_type": "markdown",
     "metadata": {},
     "source": [
      "Hay varias formas de definir el redondeo. Nosotros nos concentraremos en dos en particular:\n",
      "\n",
      "(i) Redondeo hacia $-\\infty$: \n",
      "$\\bigtriangledown(x) := \\max\\{ y\\in{\\cal F}, y\\le x \\}$\n",
      "        \n",
      "(ii) Redondeo hacia $+\\infty$:\n",
      "$\\bigtriangleup(x) := \\min\\{ y\\in{\\cal F}, y\\ge x \\}$\n",
      "\n"
     ]
    },
    {
     "cell_type": "markdown",
     "metadata": {},
     "source": [
      "**FALTA PONER LAS GRAFIQUITAS CON LOS DOS REDONDEOS**"
     ]
    },
    {
     "cell_type": "markdown",
     "metadata": {},
     "source": [
      "El error absoluto del redondeo es $\\epsilon_{\\rm abs}(x)=\\left| x-\\Box(x)\\right|$, y el relativo es $\\epsilon_{\\rm rel}(x) = | \\epsilon_abs(x) / x|$.\n",
      "\n",
      "Entonces, para todo $x\\in \\Re$, $\\epsilon_{\\rm rel}(x) \\le \\beta^{-(p-1)} = \\epsilon_M$."
     ]
    },
    {
     "cell_type": "markdown",
     "metadata": {},
     "source": [
      "*Pero* tenemos que operar. Las operaciones aritm\u00e9ticas $ \\circledast = \\{ +, -, \\times, \\div\\}$.\n",
      "\n",
      "Para definir estas operaciones en ${\\cal F}$, usamos\n",
      "\n",
      "$$ x \\circledast y := \\Box(x * y) $$\n",
      "\n",
      "donde el argumento de $x * y$ se toma como el valor exacto de la operaci\u00f3n, con $x, y, x*y \\in \\Re$.\n",
      "\n",
      "El teorema es que se puede definir *todas* las operaciones $\\circledast$ correctamente; se requieren al menos $p+2$ d\u00edgitos de precisi\u00f3n.\n",
      "\n",
      "**NOTA** Existe la librer\u00eda `crlib` en que se implementa el redondeo de manera *correcta* y *consistente*, no s\u00f3lo para las operaciones b\u00e1sicas, sino para las est\u00e1ndares.\n",
      "\n",
      "Otro teorema interesante es que se puede demostrar que, para *una* operaci\u00f3n de punto flotante, se cumple:\n",
      "\n",
      "$$ \\left | \\frac{ x * y - x \\circledast y}{x * y} \\right | < \\epsilon_M $$\n",
      "\n",
      "Lo *importante* es que esto se cumple para *una* operaci\u00f3n de punto flotante, y no necesariamente para cadenas de operaciones(!)."
     ]
    },
    {
     "cell_type": "code",
     "collapsed": false,
     "input": [
      "0.1"
     ],
     "language": "python",
     "metadata": {},
     "outputs": [
      {
       "metadata": {},
       "output_type": "pyout",
       "prompt_number": 1,
       "text": [
        "0.1"
       ]
      }
     ],
     "prompt_number": 1
    },
    {
     "cell_type": "markdown",
     "metadata": {},
     "source": [
      "Sabemos que \u00e9se no es el valor exacto de `0.1`, aunque la m\u00e1quina as\u00ed lo imprima"
     ]
    },
    {
     "cell_type": "code",
     "collapsed": false,
     "input": [
      "from sympy import mpmath"
     ],
     "language": "python",
     "metadata": {},
     "outputs": [],
     "prompt_number": 2
    },
    {
     "cell_type": "code",
     "collapsed": false,
     "input": [
      "mpmath.mpf(0.1)"
     ],
     "language": "python",
     "metadata": {},
     "outputs": [
      {
       "metadata": {},
       "output_type": "pyout",
       "prompt_number": 3,
       "text": [
        "mpf('0.10000000000000001')"
       ]
      }
     ],
     "prompt_number": 3
    },
    {
     "cell_type": "code",
     "collapsed": false,
     "input": [
      "mpmath.mp.dps=18\n",
      "mpmath.mpf(0.1)\n",
      "# Esto convierte el n\u00famero en doble precisi\u00f3n a uno con 18 d\u00edgitos de precisi\u00f3n"
     ],
     "language": "python",
     "metadata": {},
     "outputs": [
      {
       "metadata": {},
       "output_type": "pyout",
       "prompt_number": 4,
       "text": [
        "mpf('0.100000000000000005551')"
       ]
      }
     ],
     "prompt_number": 4
    },
    {
     "cell_type": "code",
     "collapsed": false,
     "input": [
      "mpmath.mp.dps=20\n",
      "mpmath.mpf(0.1)\n",
      "# Esto convierte el n\u00famero en doble precisi\u00f3n a uno con 20 d\u00edgitos de precisi\u00f3n"
     ],
     "language": "python",
     "metadata": {},
     "outputs": [
      {
       "metadata": {},
       "output_type": "pyout",
       "prompt_number": 5,
       "text": [
        "mpf('0.10000000000000000555112')"
       ]
      }
     ],
     "prompt_number": 5
    },
    {
     "cell_type": "code",
     "collapsed": false,
     "input": [
      "mpmath.mpf(\"0.1\")\n",
      "# Esto toma la representaci\u00f3n m\u00e1s cercana con 20 d\u00edgitos de precisi\u00f3n"
     ],
     "language": "python",
     "metadata": {},
     "outputs": [
      {
       "metadata": {},
       "output_type": "pyout",
       "prompt_number": 6,
       "text": [
        "mpf('0.099999999999999999999979')"
       ]
      }
     ],
     "prompt_number": 6
    },
    {
     "cell_type": "code",
     "collapsed": false,
     "input": [
      "# Regresamos a la precisi\u00f3n de default\n",
      "mpmath.mp.dps=15\n",
      "print mpmath.mp"
     ],
     "language": "python",
     "metadata": {},
     "outputs": [
      {
       "output_type": "stream",
       "stream": "stdout",
       "text": [
        "Mpmath settings:\n",
        "  mp.prec = 53                [default: 53]\n",
        "  mp.dps = 15                 [default: 15]\n",
        "  mp.trap_complex = False     [default: False]\n"
       ]
      }
     ],
     "prompt_number": 7
    },
    {
     "cell_type": "code",
     "collapsed": false,
     "input": [
      "mpmath.mpf(\"0.1\")"
     ],
     "language": "python",
     "metadata": {},
     "outputs": [
      {
       "metadata": {},
       "output_type": "pyout",
       "prompt_number": 8,
       "text": [
        "mpf('0.10000000000000001')"
       ]
      }
     ],
     "prompt_number": 8
    },
    {
     "cell_type": "code",
     "collapsed": false,
     "input": [
      "from intervalo import *"
     ],
     "language": "python",
     "metadata": {},
     "outputs": [],
     "prompt_number": 9
    },
    {
     "cell_type": "code",
     "collapsed": false,
     "input": [
      "a = Intervalo(0.1)\n",
      "print a"
     ],
     "language": "python",
     "metadata": {},
     "outputs": [
      {
       "output_type": "stream",
       "stream": "stdout",
       "text": [
        "[0.1,0.1]\n"
       ]
      }
     ],
     "prompt_number": 10
    },
    {
     "cell_type": "markdown",
     "metadata": {},
     "source": [
      "**OJO** Por lo que vimos arriba, aunque escriba `0.1`, en la representaci\u00f3n interna de la computadora el intervalo delgado `a` *NO* contiene al valor que\n",
      "queremos!"
     ]
    },
    {
     "cell_type": "markdown",
     "metadata": {},
     "source": [
      "La salida de esto es que el intervalo [1/10, 1/10] debe ser *internamente redondeado* de forma apropiada. Una manera apropiada es, para el intervalo\n",
      "\n",
      "$$[x,y]\\rightarrow \\Box([x,y]) = [ \\bigtriangledown(x), \\bigtriangleup(x) ].$$"
     ]
    },
    {
     "cell_type": "code",
     "collapsed": false,
     "input": [
      "# Correct (directed) rounding\n",
      "\n",
      "from sympy.mpmath import mpf, mp\n",
      "\n",
      "a = mpf(\"0.1\", rounding=\"f\") # f = floor\n",
      "b = mpf(\"0.1\", rounding=\"c\") # c = ceiling\n",
      "\n",
      "i = Intervalo(a,b)\n",
      "i.lo, i.hi"
     ],
     "language": "python",
     "metadata": {},
     "outputs": [
      {
       "metadata": {},
       "output_type": "pyout",
       "prompt_number": 11,
       "text": [
        "(mpf('0.099999999999999992'), mpf('0.10000000000000001'))"
       ]
      }
     ],
     "prompt_number": 11
    },
    {
     "cell_type": "code",
     "collapsed": false,
     "input": [],
     "language": "python",
     "metadata": {},
     "outputs": []
    }
   ],
   "metadata": {}
  }
 ]
}